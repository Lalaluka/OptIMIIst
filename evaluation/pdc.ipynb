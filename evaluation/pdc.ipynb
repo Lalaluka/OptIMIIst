{
 "cells": [
  {
   "cell_type": "code",
   "execution_count": 36,
   "metadata": {},
   "outputs": [],
   "source": [
    "import pandas as pd\n",
    "import seaborn as sns\n",
    "import matplotlib.pyplot as plt"
   ]
  },
  {
   "cell_type": "code",
   "execution_count": 37,
   "metadata": {},
   "outputs": [
    {
     "data": {
      "application/vnd.microsoft.datawrangler.viewer.v0+json": {
       "columns": [
        {
         "name": "index",
         "rawType": "int64",
         "type": "integer"
        },
        {
         "name": "Unnamed: 0",
         "rawType": "int64",
         "type": "integer"
        },
        {
         "name": "TP",
         "rawType": "int64",
         "type": "integer"
        },
        {
         "name": "FP",
         "rawType": "int64",
         "type": "integer"
        },
        {
         "name": "TN",
         "rawType": "int64",
         "type": "integer"
        },
        {
         "name": "FN",
         "rawType": "int64",
         "type": "integer"
        },
        {
         "name": "A",
         "rawType": "int64",
         "type": "integer"
        },
        {
         "name": "B",
         "rawType": "int64",
         "type": "integer"
        },
        {
         "name": "C",
         "rawType": "int64",
         "type": "integer"
        },
        {
         "name": "D",
         "rawType": "int64",
         "type": "integer"
        },
        {
         "name": "E",
         "rawType": "int64",
         "type": "integer"
        },
        {
         "name": "F",
         "rawType": "int64",
         "type": "integer"
        },
        {
         "name": "G",
         "rawType": "int64",
         "type": "integer"
        },
        {
         "name": "H",
         "rawType": "int64",
         "type": "integer"
        },
        {
         "name": "Precision",
         "rawType": "float64",
         "type": "float"
        },
        {
         "name": "Fitness",
         "rawType": "float64",
         "type": "float"
        },
        {
         "name": "F1",
         "rawType": "float64",
         "type": "float"
        },
        {
         "name": "N",
         "rawType": "float64",
         "type": "float"
        },
        {
         "name": "P",
         "rawType": "float64",
         "type": "float"
        },
        {
         "name": "T",
         "rawType": "float64",
         "type": "float"
        }
       ],
       "conversionMethod": "pd.DataFrame",
       "ref": "8aaab38c-df56-4cd7-a81d-76ee98559f92",
       "rows": [
        [
         "0",
         "0",
         "424",
         "65",
         "435",
         "76",
         "1",
         "0",
         "0",
         "0",
         "0",
         "1",
         "1",
         "0",
         "0.8670756646216768",
         "0.848",
         "0.8574317492416581",
         "0.8605341246290802",
         "0.8574317492416581",
         "0.8590028008057193"
        ],
        [
         "1",
         "1",
         "346",
         "116",
         "384",
         "154",
         "0",
         "0",
         "0",
         "0",
         "1",
         "1",
         "0",
         "0",
         "0.7489177489177489",
         "0.692",
         "0.7193347193347193",
         "0.7398843930635838",
         "0.7193347193347193",
         "0.7301444107208617"
        ],
        [
         "2",
         "2",
         "409",
         "72",
         "428",
         "91",
         "1",
         "0",
         "1",
         "0",
         "0",
         "1",
         "1",
         "0",
         "0.8503118503118503",
         "0.818",
         "0.8338430173292557",
         "0.8400392541707556",
         "0.8338430173292557",
         "0.8370114634083023"
        ],
        [
         "3",
         "3",
         "393",
         "109",
         "391",
         "107",
         "0",
         "0",
         "1",
         "0",
         "1",
         "1",
         "0",
         "0",
         "0.7828685258964143",
         "0.786",
         "0.784431137724551",
         "0.7835671342685371",
         "0.784431137724551",
         "0.7840002380417685"
        ],
        [
         "4",
         "4",
         "446",
         "43",
         "457",
         "54",
         "0",
         "0",
         "0",
         "1",
         "1",
         "1",
         "1",
         "1",
         "0.9120654396728016",
         "0.892",
         "0.9019211324570272",
         "0.904055390702275",
         "0.9019211324570272",
         "0.903001260937734"
        ]
       ],
       "shape": {
        "columns": 19,
        "rows": 5
       }
      },
      "text/html": [
       "<div>\n",
       "<style scoped>\n",
       "    .dataframe tbody tr th:only-of-type {\n",
       "        vertical-align: middle;\n",
       "    }\n",
       "\n",
       "    .dataframe tbody tr th {\n",
       "        vertical-align: top;\n",
       "    }\n",
       "\n",
       "    .dataframe thead th {\n",
       "        text-align: right;\n",
       "    }\n",
       "</style>\n",
       "<table border=\"1\" class=\"dataframe\">\n",
       "  <thead>\n",
       "    <tr style=\"text-align: right;\">\n",
       "      <th></th>\n",
       "      <th>Unnamed: 0</th>\n",
       "      <th>TP</th>\n",
       "      <th>FP</th>\n",
       "      <th>TN</th>\n",
       "      <th>FN</th>\n",
       "      <th>A</th>\n",
       "      <th>B</th>\n",
       "      <th>C</th>\n",
       "      <th>D</th>\n",
       "      <th>E</th>\n",
       "      <th>F</th>\n",
       "      <th>G</th>\n",
       "      <th>H</th>\n",
       "      <th>Precision</th>\n",
       "      <th>Fitness</th>\n",
       "      <th>F1</th>\n",
       "      <th>N</th>\n",
       "      <th>P</th>\n",
       "      <th>T</th>\n",
       "    </tr>\n",
       "  </thead>\n",
       "  <tbody>\n",
       "    <tr>\n",
       "      <th>0</th>\n",
       "      <td>0</td>\n",
       "      <td>424</td>\n",
       "      <td>65</td>\n",
       "      <td>435</td>\n",
       "      <td>76</td>\n",
       "      <td>1</td>\n",
       "      <td>0</td>\n",
       "      <td>0</td>\n",
       "      <td>0</td>\n",
       "      <td>0</td>\n",
       "      <td>1</td>\n",
       "      <td>1</td>\n",
       "      <td>0</td>\n",
       "      <td>0.867076</td>\n",
       "      <td>0.848</td>\n",
       "      <td>0.857432</td>\n",
       "      <td>0.860534</td>\n",
       "      <td>0.857432</td>\n",
       "      <td>0.859003</td>\n",
       "    </tr>\n",
       "    <tr>\n",
       "      <th>1</th>\n",
       "      <td>1</td>\n",
       "      <td>346</td>\n",
       "      <td>116</td>\n",
       "      <td>384</td>\n",
       "      <td>154</td>\n",
       "      <td>0</td>\n",
       "      <td>0</td>\n",
       "      <td>0</td>\n",
       "      <td>0</td>\n",
       "      <td>1</td>\n",
       "      <td>1</td>\n",
       "      <td>0</td>\n",
       "      <td>0</td>\n",
       "      <td>0.748918</td>\n",
       "      <td>0.692</td>\n",
       "      <td>0.719335</td>\n",
       "      <td>0.739884</td>\n",
       "      <td>0.719335</td>\n",
       "      <td>0.730144</td>\n",
       "    </tr>\n",
       "    <tr>\n",
       "      <th>2</th>\n",
       "      <td>2</td>\n",
       "      <td>409</td>\n",
       "      <td>72</td>\n",
       "      <td>428</td>\n",
       "      <td>91</td>\n",
       "      <td>1</td>\n",
       "      <td>0</td>\n",
       "      <td>1</td>\n",
       "      <td>0</td>\n",
       "      <td>0</td>\n",
       "      <td>1</td>\n",
       "      <td>1</td>\n",
       "      <td>0</td>\n",
       "      <td>0.850312</td>\n",
       "      <td>0.818</td>\n",
       "      <td>0.833843</td>\n",
       "      <td>0.840039</td>\n",
       "      <td>0.833843</td>\n",
       "      <td>0.837011</td>\n",
       "    </tr>\n",
       "    <tr>\n",
       "      <th>3</th>\n",
       "      <td>3</td>\n",
       "      <td>393</td>\n",
       "      <td>109</td>\n",
       "      <td>391</td>\n",
       "      <td>107</td>\n",
       "      <td>0</td>\n",
       "      <td>0</td>\n",
       "      <td>1</td>\n",
       "      <td>0</td>\n",
       "      <td>1</td>\n",
       "      <td>1</td>\n",
       "      <td>0</td>\n",
       "      <td>0</td>\n",
       "      <td>0.782869</td>\n",
       "      <td>0.786</td>\n",
       "      <td>0.784431</td>\n",
       "      <td>0.783567</td>\n",
       "      <td>0.784431</td>\n",
       "      <td>0.784000</td>\n",
       "    </tr>\n",
       "    <tr>\n",
       "      <th>4</th>\n",
       "      <td>4</td>\n",
       "      <td>446</td>\n",
       "      <td>43</td>\n",
       "      <td>457</td>\n",
       "      <td>54</td>\n",
       "      <td>0</td>\n",
       "      <td>0</td>\n",
       "      <td>0</td>\n",
       "      <td>1</td>\n",
       "      <td>1</td>\n",
       "      <td>1</td>\n",
       "      <td>1</td>\n",
       "      <td>1</td>\n",
       "      <td>0.912065</td>\n",
       "      <td>0.892</td>\n",
       "      <td>0.901921</td>\n",
       "      <td>0.904055</td>\n",
       "      <td>0.901921</td>\n",
       "      <td>0.903001</td>\n",
       "    </tr>\n",
       "  </tbody>\n",
       "</table>\n",
       "</div>"
      ],
      "text/plain": [
       "   Unnamed: 0   TP   FP   TN   FN  A  B  C  D  E  F  G  H  Precision  Fitness  \\\n",
       "0           0  424   65  435   76  1  0  0  0  0  1  1  0   0.867076    0.848   \n",
       "1           1  346  116  384  154  0  0  0  0  1  1  0  0   0.748918    0.692   \n",
       "2           2  409   72  428   91  1  0  1  0  0  1  1  0   0.850312    0.818   \n",
       "3           3  393  109  391  107  0  0  1  0  1  1  0  0   0.782869    0.786   \n",
       "4           4  446   43  457   54  0  0  0  1  1  1  1  1   0.912065    0.892   \n",
       "\n",
       "         F1         N         P         T  \n",
       "0  0.857432  0.860534  0.857432  0.859003  \n",
       "1  0.719335  0.739884  0.719335  0.730144  \n",
       "2  0.833843  0.840039  0.833843  0.837011  \n",
       "3  0.784431  0.783567  0.784431  0.784000  \n",
       "4  0.901921  0.904055  0.901921  0.903001  "
      ]
     },
     "execution_count": 37,
     "metadata": {},
     "output_type": "execute_result"
    }
   ],
   "source": [
    "results = pd.read_csv('PDC24res-optimiist.csv')\n",
    "\n",
    "results.head()"
   ]
  },
  {
   "cell_type": "code",
   "execution_count": 38,
   "metadata": {},
   "outputs": [
    {
     "name": "stdout",
     "output_type": "stream",
     "text": [
      "Average F1 score:  0.8628427655263174\n",
      "Average precision:  0.8735628866885744\n",
      "Average Fitness:  0.852826388888889\n"
     ]
    }
   ],
   "source": [
    "# Average F1 score\n",
    "results['F1'].mean()\n",
    "print('Average F1 score: ', results['F1'].mean())\n",
    "# Average precision\n",
    "results['Precision'].mean()\n",
    "print('Average precision: ', results['Precision'].mean())\n",
    "# Average Fitness\n",
    "results['Fitness'].mean()\n",
    "print('Average Fitness: ', results['Fitness'].mean())"
   ]
  },
  {
   "cell_type": "code",
   "execution_count": 39,
   "metadata": {},
   "outputs": [
    {
     "name": "stdout",
     "output_type": "stream",
     "text": [
      "     Index  True Positives  False Positives  True Negatives  False Negatives  \\\n",
      "0        0             424               65             435               76   \n",
      "1        1             346              116             384              154   \n",
      "2        2             409               72             428               91   \n",
      "3        3             393              109             391              107   \n",
      "4        4             446               43             457               54   \n",
      "..     ...             ...              ...             ...              ...   \n",
      "283    283             472               15             485               28   \n",
      "284    284             411               91             409               89   \n",
      "285    285             500                0             500                0   \n",
      "286    286             416               63             437               84   \n",
      "287    287             493                9             491                7   \n",
      "\n",
      "     Dependent Tasks  Loops  OR Constructs  Routing Constructs  \\\n",
      "0                  1      0              0                   0   \n",
      "1                  0      0              0                   0   \n",
      "2                  1      0              1                   0   \n",
      "3                  0      0              1                   0   \n",
      "4                  0      0              0                   1   \n",
      "..               ...    ...            ...                 ...   \n",
      "283                0      0              1                   0   \n",
      "284                1      0              0                   1   \n",
      "285                0      0              0                   1   \n",
      "286                1      0              1                   1   \n",
      "287                0      0              1                   1   \n",
      "\n",
      "     Optional Tasks  Noise  Duplicate Tasks  Pre-labeled  Precision  Fitness  \\\n",
      "0                 0      1                1            0   0.867076    0.848   \n",
      "1                 1      1                0            0   0.748918    0.692   \n",
      "2                 0      1                1            0   0.850312    0.818   \n",
      "3                 1      1                0            0   0.782869    0.786   \n",
      "4                 1      1                1            1   0.912065    0.892   \n",
      "..              ...    ...              ...          ...        ...      ...   \n",
      "283               0      0                1            1   0.969199    0.944   \n",
      "284               1      0                1            0   0.818725    0.822   \n",
      "285               0      0                0            0   1.000000    1.000   \n",
      "286               1      0                1            0   0.868476    0.832   \n",
      "287               0      0                0            0   0.982072    0.986   \n",
      "\n",
      "           F1         N         P         T  \n",
      "0    0.857432  0.860534  0.857432  0.859003  \n",
      "1    0.719335  0.739884  0.719335  0.730144  \n",
      "2    0.833843  0.840039  0.833843  0.837011  \n",
      "3    0.784431  0.783567  0.784431  0.784000  \n",
      "4    0.901921  0.904055  0.901921  0.903001  \n",
      "..        ...       ...       ...       ...  \n",
      "283  0.956434  0.957552  0.956434  0.957000  \n",
      "284  0.820359  0.819639  0.820359  0.820000  \n",
      "285  1.000000  1.000000  1.000000  1.000000  \n",
      "286  0.849847  0.856024  0.849847  0.853011  \n",
      "287  0.984032  0.983968  0.984032  0.984000  \n",
      "\n",
      "[288 rows x 19 columns]\n"
     ]
    }
   ],
   "source": [
    "# Rename the columns\n",
    "results.rename(columns={\n",
    "  'Unnamed: 0': 'Index',\n",
    "  'TP': 'True Positives',\n",
    "  'FP': 'False Positives',\n",
    "  'TN': 'True Negatives',\n",
    "  'FN': 'False Negatives',\n",
    "  'A': 'Dependent Tasks',\n",
    "  'B': 'Loops',\n",
    "  'C': 'OR Constructs',\n",
    "  'D': 'Routing Constructs',\n",
    "  'E': 'Optional Tasks',\n",
    "  'F': 'Noise',\n",
    "  'G': 'Duplicate Tasks',\n",
    "  'H': 'Pre-labeled',\n",
    "}, inplace=True)\n",
    "\n",
    "print(results)"
   ]
  },
  {
   "cell_type": "code",
   "execution_count": 40,
   "metadata": {
    "vscode": {
     "languageId": "ruby"
    }
   },
   "outputs": [
    {
     "data": {
      "image/png": "[encoded data removed]",
      "text/plain": [
       "<Figure size 1200x600 with 1 Axes>"
      ]
     },
     "metadata": {},
     "output_type": "display_data"
    }
   ],
   "source": [
    "settings = ['Dependent Tasks','Loops','OR Constructs','Routing Constructs','Optional Tasks','Duplicate Tasks','Noise','Pre-labeled',]\n",
    "\n",
    "# Melt the DataFrame so we can plot based on different settings\n",
    "df_melted = results.melt(id_vars=['F1'], value_vars=settings, var_name=\"Setting\", value_name=\"Value\")\n",
    "\n",
    "# Create the boxplot\n",
    "plt.figure(figsize=(12, 6))\n",
    "sns.boxplot(x=\"Setting\", y=\"F1\", hue=\"Value\", data=df_melted, palette=\"pastel\")\n",
    "\n",
    "# Overlay the average values using pointplot\n",
    "# sns.pointplot(x=\"Setting\", y=\"F1\", hue=\"Value\", data=df_melted, dodge=0.5, linestyle='none', markers=\"x\", palette='dark:red', errorbar=None)\n",
    "\n",
    "# Improve aesthetics\n",
    "plt.xlabel(\"\")\n",
    "plt.ylabel(\"F1 Score\")\n",
    "plt.title(\"Score Distribution by Model Setting\")\n",
    "plt.legend(title=\"Setting Value\")\n",
    "plt.grid(axis=\"y\", linestyle=\"--\", alpha=0.7)\n",
    "plt.ylim(0, 1.01)\n",
    "plt.xticks(rotation=45)  # Angle the x-axis labels\n",
    "\n",
    "# Show the plot\n",
    "plt.show()"
   ]
  },
  {
   "cell_type": "code",
   "execution_count": null,
   "metadata": {
    "vscode": {
     "languageId": "ruby"
    }
   },
   "outputs": [],
   "source": []
  }
 ],
 "metadata": {
  "kernelspec": {
   "display_name": ".venv",
   "language": "python",
   "name": "python3"
  },
  "language_info": {
   "codemirror_mode": {
    "name": "ipython",
    "version": 3
   },
   "file_extension": ".py",
   "mimetype": "text/x-python",
   "name": "python",
   "nbconvert_exporter": "python",
   "pygments_lexer": "ipython3",
   "version": "3.13.0"
  }
 },
 "nbformat": 4,
 "nbformat_minor": 2
}
